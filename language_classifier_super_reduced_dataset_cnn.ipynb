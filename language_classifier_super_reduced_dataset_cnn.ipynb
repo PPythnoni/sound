{
  "nbformat": 4,
  "nbformat_minor": 0,
  "metadata": {
    "colab": {
      "name": "language_classifier_super_reduced_dataset_cnn.ipynb",
      "provenance": [],
      "mount_file_id": "1w9M313hgKtH26_2CszDMrfspgvLRE820",
      "authorship_tag": "ABX9TyNVHsur2qjagq458PGTp5la",
      "include_colab_link": true
    },
    "kernelspec": {
      "name": "python3",
      "display_name": "Python 3"
    }
  },
  "cells": [
    {
      "cell_type": "markdown",
      "metadata": {
        "id": "view-in-github",
        "colab_type": "text"
      },
      "source": [
        "<a href=\"https://colab.research.google.com/github/PPythnoni/sound/blob/main/language_classifier_super_reduced_dataset_cnn.ipynb\" target=\"_parent\"><img src=\"https://colab.research.google.com/assets/colab-badge.svg\" alt=\"Open In Colab\"/></a>"
      ]
    },
    {
      "cell_type": "code",
      "metadata": {
        "id": "vAu_-KjOUv8l"
      },
      "source": [
        "import json\n",
        "import numpy as np\n",
        "from sklearn.model_selection import train_test_split\n",
        "import tensorflow.keras as keras\n",
        "import matplotlib.pyplot as plt\n",
        "from IPython.display import Audio\n",
        "import librosa, librosa.display\n",
        "\n",
        "# dataset one tenth the size of the original dataset - 180 speakers per language\n",
        "DATA_PATH = \"/content/drive/MyDrive/Python/super_small.json\""
      ],
      "execution_count": 1,
      "outputs": []
    },
    {
      "cell_type": "code",
      "metadata": {
        "id": "Gzsy7YkOU945"
      },
      "source": [
        "def load_data(data_path):\n",
        "    with open(data_path, \"r\") as fp:\n",
        "        data = json.load(fp)\n",
        "    X = np.array(data[\"mfcc\"])\n",
        "    y = np.array(data[\"labels\"])\n",
        "    return X, y"
      ],
      "execution_count": 2,
      "outputs": []
    },
    {
      "cell_type": "code",
      "metadata": {
        "id": "fBDILguAVYwy"
      },
      "source": [
        "def plot_history(history):\n",
        "  \n",
        "    fig, axs = plt.subplots(2)\n",
        "\n",
        "    #accuracy sublpot\n",
        "    axs[0].plot(history.history[\"accuracy\"], label=\"train accuracy\")\n",
        "    axs[0].plot(history.history[\"val_accuracy\"], label=\"test accuracy\")\n",
        "    axs[0].set_ylabel(\"Accuracy\")\n",
        "    axs[0].legend(loc=\"lower right\")\n",
        "    axs[0].set_title(\"Accuracy eval\")\n",
        "\n",
        "    #error sublpot\n",
        "    axs[1].plot(history.history[\"loss\"], label=\"train error\")\n",
        "    axs[1].plot(history.history[\"val_loss\"], label=\"test error\")\n",
        "    axs[1].set_ylabel(\"Error\")\n",
        "    axs[1].set_xlabel(\"Epoch\")\n",
        "    axs[1].legend(loc=\"upper right\")\n",
        "    axs[1].set_title(\"Error eval\")\n",
        "\n",
        "    plt.show()"
      ],
      "execution_count": 3,
      "outputs": []
    },
    {
      "cell_type": "code",
      "metadata": {
        "id": "UyQLyPpuVez6"
      },
      "source": [
        "def prepare_datasets(test_size, validation_size):\n",
        "\n",
        "    # load data\n",
        "    X, y = load_data(DATA_PATH)\n",
        "\n",
        "    # create train, validation and test split\n",
        "    X_train, X_test, y_train, y_test = train_test_split(X, y, test_size=test_size)\n",
        "    X_train, X_validation, y_train, y_validation = train_test_split(X_train, y_train, test_size=validation_size)\n",
        "\n",
        "    # add an axis to input sets\n",
        "    X_train = X_train[..., np.newaxis]\n",
        "    X_validation = X_validation[..., np.newaxis]\n",
        "    X_test = X_test[..., np.newaxis]\n",
        "\n",
        "    return X_train, X_validation, X_test, y_train, y_validation, y_test"
      ],
      "execution_count": 4,
      "outputs": []
    },
    {
      "cell_type": "code",
      "metadata": {
        "id": "Co_DRyWCVmBp"
      },
      "source": [
        "def build_model(input_shape):\n",
        "    model = keras.Sequential()\n",
        "\n",
        "    # 1st conv layer\n",
        "    model.add(keras.layers.Conv2D(32, (3, 3), activation='relu', input_shape=input_shape))\n",
        "    model.add(keras.layers.MaxPooling2D((3, 3), strides=(2, 2), padding='same'))\n",
        "    model.add(keras.layers.BatchNormalization())\n",
        "\n",
        "    # 2nd conv layer\n",
        "    model.add(keras.layers.Conv2D(32, (3, 3), activation='relu'))\n",
        "    model.add(keras.layers.MaxPooling2D((3, 3), strides=(2, 2), padding='same'))\n",
        "    model.add(keras.layers.BatchNormalization())\n",
        "\n",
        "    # 3rd conv layer\n",
        "    model.add(keras.layers.Conv2D(32, (2, 2), activation='relu'))\n",
        "    model.add(keras.layers.MaxPooling2D((2, 2), strides=(2, 2), padding='same'))\n",
        "    model.add(keras.layers.BatchNormalization())\n",
        "\n",
        "    # flatten output and feed it into dense layer\n",
        "    model.add(keras.layers.Flatten())\n",
        "    model.add(keras.layers.Dense(64, activation='relu'))\n",
        "    model.add(keras.layers.Dropout(0.3))\n",
        "\n",
        "    # output layer\n",
        "    model.add(keras.layers.Dense(3, activation='softmax'))\n",
        "\n",
        "    return model"
      ],
      "execution_count": 5,
      "outputs": []
    },
    {
      "cell_type": "code",
      "metadata": {
        "id": "Om-xQEUsWCkK"
      },
      "source": [
        "def predict(model, X, y):\n",
        "\n",
        "    # add a dimension to input data for sample - model.predict() expects a 4d array in this case\n",
        "    X = X[np.newaxis, ...]\n",
        "\n",
        "    # perform prediction\n",
        "    prediction = model.predict(X)\n",
        "\n",
        "    # get index with max value\n",
        "    predicted_index = np.argmax(prediction, axis=1)\n",
        "\n",
        "    print(\"Target: {}, Predicted label: {}\".format(y, predicted_index))"
      ],
      "execution_count": 6,
      "outputs": []
    },
    {
      "cell_type": "code",
      "metadata": {
        "colab": {
          "base_uri": "https://localhost:8080/"
        },
        "id": "FQr96ZtSYPJH",
        "outputId": "c4aab1ba-cbec-4e5e-f53e-1f3275e21e6e"
      },
      "source": [
        "# get train, validation, test splits\n",
        "X_train, X_validation, X_test, y_train, y_validation, y_test = prepare_datasets(0.25, 0.2)"
      ],
      "execution_count": 7,
      "outputs": [
        {
          "output_type": "stream",
          "text": [
            "Model: \"sequential\"\n",
            "_________________________________________________________________\n",
            "Layer (type)                 Output Shape              Param #   \n",
            "=================================================================\n",
            "conv2d (Conv2D)              (None, 85, 11, 32)        320       \n",
            "_________________________________________________________________\n",
            "max_pooling2d (MaxPooling2D) (None, 43, 6, 32)         0         \n",
            "_________________________________________________________________\n",
            "batch_normalization (BatchNo (None, 43, 6, 32)         128       \n",
            "_________________________________________________________________\n",
            "conv2d_1 (Conv2D)            (None, 41, 4, 32)         9248      \n",
            "_________________________________________________________________\n",
            "max_pooling2d_1 (MaxPooling2 (None, 21, 2, 32)         0         \n",
            "_________________________________________________________________\n",
            "batch_normalization_1 (Batch (None, 21, 2, 32)         128       \n",
            "_________________________________________________________________\n",
            "conv2d_2 (Conv2D)            (None, 20, 1, 32)         4128      \n",
            "_________________________________________________________________\n",
            "max_pooling2d_2 (MaxPooling2 (None, 10, 1, 32)         0         \n",
            "_________________________________________________________________\n",
            "batch_normalization_2 (Batch (None, 10, 1, 32)         128       \n",
            "_________________________________________________________________\n",
            "flatten (Flatten)            (None, 320)               0         \n",
            "_________________________________________________________________\n",
            "dense (Dense)                (None, 64)                20544     \n",
            "_________________________________________________________________\n",
            "dropout (Dropout)            (None, 64)                0         \n",
            "_________________________________________________________________\n",
            "dense_1 (Dense)              (None, 3)                 195       \n",
            "=================================================================\n",
            "Total params: 34,819\n",
            "Trainable params: 34,627\n",
            "Non-trainable params: 192\n",
            "_________________________________________________________________\n"
          ],
          "name": "stdout"
        }
      ]
    },
    {
      "cell_type": "code",
      "metadata": {
        "colab": {
          "base_uri": "https://localhost:8080/"
        },
        "id": "lo7Qk5WlGRk0",
        "outputId": "0a7f9c48-5a33-4972-962f-8de806caa3e1"
      },
      "source": [
        "X_train.shape"
      ],
      "execution_count": 16,
      "outputs": [
        {
          "output_type": "execute_result",
          "data": {
            "text/plain": [
              "(1620, 87, 13, 1)"
            ]
          },
          "metadata": {
            "tags": []
          },
          "execution_count": 16
        }
      ]
    },
    {
      "cell_type": "code",
      "metadata": {
        "id": "UxmcsLk7JedT"
      },
      "source": [
        "\"\"\"n of samples,\n",
        "n of time bins into which a sound samples is divided, \n",
        "n of mfccs extracted from each bin, \n",
        "an extra dimension that cnn expects (similarly to color channels in images)\"\"\""
      ],
      "execution_count": null,
      "outputs": []
    },
    {
      "cell_type": "code",
      "metadata": {
        "id": "zQJHAeWxIYbt"
      },
      "source": [
        ""
      ],
      "execution_count": null,
      "outputs": []
    },
    {
      "cell_type": "code",
      "metadata": {
        "id": "ObMKsT-bGLsK"
      },
      "source": [
        "    # create network\n",
        "input_shape = (X_train.shape[1], X_train.shape[2], 1)\n",
        "model = build_model(input_shape)\n",
        "\n",
        "    # compile model\n",
        "optimiser = keras.optimizers.Adam(learning_rate=0.0001)\n",
        "model.compile(optimizer=optimiser,\n",
        "                  loss='sparse_categorical_crossentropy',\n",
        "                  metrics=['accuracy'])\n",
        "\n",
        "model.summary()"
      ],
      "execution_count": null,
      "outputs": []
    },
    {
      "cell_type": "code",
      "metadata": {
        "colab": {
          "base_uri": "https://localhost:8080/"
        },
        "id": "xqs2T8gFc8FI",
        "outputId": "1c66213f-af13-4f82-ec02-bf1034adf6d8"
      },
      "source": [
        "history = model.fit(X_train, y_train, validation_data=(X_validation, y_validation), batch_size=32, epochs=40)"
      ],
      "execution_count": 8,
      "outputs": [
        {
          "output_type": "stream",
          "text": [
            "Epoch 1/40\n",
            "51/51 [==============================] - 2s 46ms/step - loss: 1.4409 - accuracy: 0.3864 - val_loss: 1.4634 - val_accuracy: 0.3432\n",
            "Epoch 2/40\n",
            "51/51 [==============================] - 2s 40ms/step - loss: 1.1108 - accuracy: 0.5105 - val_loss: 1.0616 - val_accuracy: 0.4691\n",
            "Epoch 3/40\n",
            "51/51 [==============================] - 2s 41ms/step - loss: 0.8908 - accuracy: 0.6000 - val_loss: 0.9058 - val_accuracy: 0.5753\n",
            "Epoch 4/40\n",
            "51/51 [==============================] - 2s 41ms/step - loss: 0.7372 - accuracy: 0.6710 - val_loss: 0.7908 - val_accuracy: 0.6420\n",
            "Epoch 5/40\n",
            "51/51 [==============================] - 2s 41ms/step - loss: 0.6223 - accuracy: 0.7346 - val_loss: 0.6780 - val_accuracy: 0.7185\n",
            "Epoch 6/40\n",
            "51/51 [==============================] - 2s 41ms/step - loss: 0.5436 - accuracy: 0.7747 - val_loss: 0.5774 - val_accuracy: 0.7630\n",
            "Epoch 7/40\n",
            "51/51 [==============================] - 2s 40ms/step - loss: 0.4520 - accuracy: 0.8216 - val_loss: 0.4864 - val_accuracy: 0.8395\n",
            "Epoch 8/40\n",
            "51/51 [==============================] - 2s 41ms/step - loss: 0.4002 - accuracy: 0.8488 - val_loss: 0.4232 - val_accuracy: 0.8617\n",
            "Epoch 9/40\n",
            "51/51 [==============================] - 2s 41ms/step - loss: 0.3503 - accuracy: 0.8772 - val_loss: 0.3904 - val_accuracy: 0.8667\n",
            "Epoch 10/40\n",
            "51/51 [==============================] - 2s 41ms/step - loss: 0.3260 - accuracy: 0.8846 - val_loss: 0.3771 - val_accuracy: 0.8642\n",
            "Epoch 11/40\n",
            "51/51 [==============================] - 2s 40ms/step - loss: 0.2990 - accuracy: 0.8920 - val_loss: 0.3242 - val_accuracy: 0.8765\n",
            "Epoch 12/40\n",
            "51/51 [==============================] - 2s 40ms/step - loss: 0.2698 - accuracy: 0.9012 - val_loss: 0.3000 - val_accuracy: 0.8988\n",
            "Epoch 13/40\n",
            "51/51 [==============================] - 2s 41ms/step - loss: 0.2533 - accuracy: 0.9154 - val_loss: 0.2912 - val_accuracy: 0.9111\n",
            "Epoch 14/40\n",
            "51/51 [==============================] - 2s 40ms/step - loss: 0.2450 - accuracy: 0.9080 - val_loss: 0.2741 - val_accuracy: 0.9062\n",
            "Epoch 15/40\n",
            "51/51 [==============================] - 2s 40ms/step - loss: 0.2037 - accuracy: 0.9278 - val_loss: 0.2317 - val_accuracy: 0.9284\n",
            "Epoch 16/40\n",
            "51/51 [==============================] - 2s 40ms/step - loss: 0.2041 - accuracy: 0.9296 - val_loss: 0.2624 - val_accuracy: 0.8938\n",
            "Epoch 17/40\n",
            "51/51 [==============================] - 2s 40ms/step - loss: 0.1809 - accuracy: 0.9414 - val_loss: 0.2310 - val_accuracy: 0.9210\n",
            "Epoch 18/40\n",
            "51/51 [==============================] - 2s 40ms/step - loss: 0.1661 - accuracy: 0.9500 - val_loss: 0.2353 - val_accuracy: 0.9210\n",
            "Epoch 19/40\n",
            "51/51 [==============================] - 2s 40ms/step - loss: 0.1600 - accuracy: 0.9457 - val_loss: 0.2003 - val_accuracy: 0.9358\n",
            "Epoch 20/40\n",
            "51/51 [==============================] - 2s 40ms/step - loss: 0.1430 - accuracy: 0.9568 - val_loss: 0.1805 - val_accuracy: 0.9383\n",
            "Epoch 21/40\n",
            "51/51 [==============================] - 2s 41ms/step - loss: 0.1422 - accuracy: 0.9586 - val_loss: 0.1818 - val_accuracy: 0.9481\n",
            "Epoch 22/40\n",
            "51/51 [==============================] - 2s 40ms/step - loss: 0.1315 - accuracy: 0.9580 - val_loss: 0.1820 - val_accuracy: 0.9481\n",
            "Epoch 23/40\n",
            "51/51 [==============================] - 2s 41ms/step - loss: 0.1108 - accuracy: 0.9704 - val_loss: 0.1686 - val_accuracy: 0.9432\n",
            "Epoch 24/40\n",
            "51/51 [==============================] - 2s 41ms/step - loss: 0.1108 - accuracy: 0.9679 - val_loss: 0.1618 - val_accuracy: 0.9556\n",
            "Epoch 25/40\n",
            "51/51 [==============================] - 2s 41ms/step - loss: 0.1084 - accuracy: 0.9704 - val_loss: 0.1564 - val_accuracy: 0.9506\n",
            "Epoch 26/40\n",
            "51/51 [==============================] - 2s 41ms/step - loss: 0.1183 - accuracy: 0.9605 - val_loss: 0.1759 - val_accuracy: 0.9407\n",
            "Epoch 27/40\n",
            "51/51 [==============================] - 2s 41ms/step - loss: 0.0998 - accuracy: 0.9704 - val_loss: 0.1581 - val_accuracy: 0.9481\n",
            "Epoch 28/40\n",
            "51/51 [==============================] - 2s 40ms/step - loss: 0.0940 - accuracy: 0.9747 - val_loss: 0.1489 - val_accuracy: 0.9580\n",
            "Epoch 29/40\n",
            "51/51 [==============================] - 2s 40ms/step - loss: 0.0825 - accuracy: 0.9809 - val_loss: 0.1475 - val_accuracy: 0.9531\n",
            "Epoch 30/40\n",
            "51/51 [==============================] - 2s 40ms/step - loss: 0.0821 - accuracy: 0.9790 - val_loss: 0.1439 - val_accuracy: 0.9531\n",
            "Epoch 31/40\n",
            "51/51 [==============================] - 2s 40ms/step - loss: 0.0785 - accuracy: 0.9772 - val_loss: 0.1566 - val_accuracy: 0.9432\n",
            "Epoch 32/40\n",
            "51/51 [==============================] - 2s 40ms/step - loss: 0.0755 - accuracy: 0.9815 - val_loss: 0.1353 - val_accuracy: 0.9580\n",
            "Epoch 33/40\n",
            "51/51 [==============================] - 2s 40ms/step - loss: 0.0743 - accuracy: 0.9772 - val_loss: 0.1551 - val_accuracy: 0.9432\n",
            "Epoch 34/40\n",
            "51/51 [==============================] - 2s 40ms/step - loss: 0.0831 - accuracy: 0.9765 - val_loss: 0.1962 - val_accuracy: 0.9136\n",
            "Epoch 35/40\n",
            "51/51 [==============================] - 2s 40ms/step - loss: 0.0631 - accuracy: 0.9852 - val_loss: 0.1433 - val_accuracy: 0.9556\n",
            "Epoch 36/40\n",
            "51/51 [==============================] - 2s 40ms/step - loss: 0.0693 - accuracy: 0.9809 - val_loss: 0.1560 - val_accuracy: 0.9407\n",
            "Epoch 37/40\n",
            "51/51 [==============================] - 2s 40ms/step - loss: 0.0608 - accuracy: 0.9796 - val_loss: 0.1533 - val_accuracy: 0.9407\n",
            "Epoch 38/40\n",
            "51/51 [==============================] - 2s 41ms/step - loss: 0.0541 - accuracy: 0.9864 - val_loss: 0.1464 - val_accuracy: 0.9506\n",
            "Epoch 39/40\n",
            "51/51 [==============================] - 2s 40ms/step - loss: 0.0466 - accuracy: 0.9907 - val_loss: 0.1209 - val_accuracy: 0.9605\n",
            "Epoch 40/40\n",
            "51/51 [==============================] - 2s 41ms/step - loss: 0.0479 - accuracy: 0.9895 - val_loss: 0.1237 - val_accuracy: 0.9556\n"
          ],
          "name": "stdout"
        }
      ]
    },
    {
      "cell_type": "code",
      "metadata": {
        "colab": {
          "base_uri": "https://localhost:8080/",
          "height": 346
        },
        "id": "9fOYgM-mDofv",
        "outputId": "dd4ed936-59fe-4879-9b81-83d8e08b1d81"
      },
      "source": [
        "plot_history(history)\n",
        "test_loss, test_acc = model.evaluate(X_test, y_test, verbose=2)\n",
        "print('\\nTest accuracy:', test_acc)"
      ],
      "execution_count": 9,
      "outputs": [
        {
          "output_type": "display_data",
          "data": {
            "image/png": "[encoded data removed]",
            "text/plain": [
              "<Figure size 432x288 with 2 Axes>"
            ]
          },
          "metadata": {
            "tags": [],
            "needs_background": "light"
          }
        },
        {
          "output_type": "stream",
          "text": [
            "22/22 - 0s - loss: 0.1148 - accuracy: 0.9630\n",
            "\n",
            "Test accuracy: 0.9629629850387573\n"
          ],
          "name": "stdout"
        }
      ]
    }
  ]
}